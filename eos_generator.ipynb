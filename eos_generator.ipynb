{
 "cells": [
  {
   "cell_type": "markdown",
   "id": "2329ba33",
   "metadata": {},
   "source": [
    "# Generating EOS\n",
    "This notebook generates tables of EOSs including a QCD and a vacuum energy phase transition, giving pressure and energy density in G=c=M_sun=1 units. After appropriate rescaling of the final quantities, it can be used in well-known NS integrator, like the RNS code (https://github.com/cgca/rns)."
   ]
  },
  {
   "cell_type": "markdown",
   "id": "9481cf98",
   "metadata": {},
   "source": [
    "## Import"
   ]
  },
  {
   "cell_type": "code",
   "execution_count": 1,
   "id": "782fc5f4",
   "metadata": {},
   "outputs": [],
   "source": [
    "using DelimitedFiles, Interpolations, Symbolics, Printf, Plots, LaTeXStrings"
   ]
  },
  {
   "cell_type": "markdown",
   "id": "32d54448",
   "metadata": {},
   "source": [
    "## Load data and useful constants"
   ]
  },
  {
   "cell_type": "code",
   "execution_count": 2,
   "id": "793f6f2b",
   "metadata": {},
   "outputs": [],
   "source": [
    "#LOADING DATA\n",
    "#Note: the usual dataset for the AP4 and the SLy gave all quantities in g/cm^3\n",
    "#The dataset in Rescaledsly.dat and Rescaledap4.dat have been rescaled to G=c=M_Sun=1\n",
    "#The data for the (ρ,c_s) segments are also in G=c=M_Sun=1\n",
    "#Smaller dataset corresponds to matrixrhoS.dat and matrixcsS.dat\n",
    "#Larger dataset corresponds to matrixrhoL.dat and matrixcsL.dat\n",
    "sly = readdlm(\"Rescaledsly.dat\", Float64) #p,ϵ,ρ\n",
    "ap4 = readdlm(\"Rescaledap4.dat\", Float64); #p,ϵ,ρ\n",
    "matrix_ρ = readdlm(\"matrixrhoS.dat\", Float64) #loading ρ coordinates for segments\n",
    "matrix_cs = readdlm(\"matrixcsS.dat\", Float64); #loading cs coordinates for segments\n",
    "#matrix_ρ = readdlm(\"matrixrhoL.dat\", Float64) #loading ρ coordinates for segments\n",
    "#matrix_cs = readdlm(\"matrixcsL.dat\", Float64); #loading cs coordinates for segments"
   ]
  },
  {
   "cell_type": "code",
   "execution_count": 3,
   "id": "9f3e8ed4",
   "metadata": {},
   "outputs": [],
   "source": [
    "#USEFUL CONSTANTS FOR RESCALING UNITS\n",
    "const cspeed = 2.997 * 10.0^10 #in cm s^-1\n",
    "const hbar = 6.582 * 10.0^-22 #in Mev s\n",
    "const MeV = 1.602 * 10.0^-6 #in g cm^2 s^-1\n",
    "const Kp = MeV/(hbar^3 * cspeed^3) #transforming a pressure in Mev^4 in g/cm/s^2\n",
    "const Kρ = MeV/(hbar^3 * cspeed^5) #transforming a mass density in Mev^4 in g/cm^3\n",
    "const fm = (10.0^-13)^-3 #fm^-3 in cm^-3\n",
    "const n0 = 0.16 * fm #nuclear saturation density in cm^-3\n",
    "const m = 1.675 * 10.0^-24 #neutron mass in g\n",
    "const Msun = 1.988 * 10.0^33 #mass of the Sun in g\n",
    "const Gconst = 6.67 * 10.0^-11 * 10.0^6/10.0^3 #in cm^3/g/s^2\n",
    "const Lu = Msun^-1 * cspeed^2 * Gconst^-1 #1cm in G=c=Msun=1\n",
    "const Pu = Msun^-1 / Lu^3 / cspeed^2  #transforming a pressure in g/cm/s^2 in G=c=Msun=1 units\n",
    "const ρu = Msun^-1 / Lu^3; #transforming a mass density in g/cm^3 in G=c=Msun=1 units"
   ]
  },
  {
   "cell_type": "markdown",
   "id": "f243209e",
   "metadata": {},
   "source": [
    "## Functions"
   ]
  },
  {
   "cell_type": "code",
   "execution_count": 4,
   "id": "19f91465",
   "metadata": {
    "code_folding": []
   },
   "outputs": [],
   "source": [
    "#function to find (closest) position in array of certain value \n",
    "#!!It works for increasing values on column!!\n",
    "function findpos(matrix,value,column)\n",
    "    K = length(matrix[:,column])\n",
    "    \n",
    "    #check if element is in list\n",
    "    if value > matrix[end,column] || value < matrix[1,column] \n",
    "        return 0\n",
    "    end\n",
    "    \n",
    "    for b = 1:length(matrix[:,column])\n",
    "        Δx1 = abs(matrix[b,column]  - value)\n",
    "        Δx2 = abs(matrix[b+1,column] - value)\n",
    "        if matrix[b+1,column] >= value\n",
    "            if Δx1 < Δx2\n",
    "                return b\n",
    "            else\n",
    "                return b+1\n",
    "            end\n",
    "        end\n",
    "    end\n",
    "end;"
   ]
  },
  {
   "cell_type": "code",
   "execution_count": 24,
   "id": "563e3de2",
   "metadata": {
    "code_folding": []
   },
   "outputs": [],
   "source": [
    "#Evaluating derivative functions to find quantities at threshold\n",
    "function derThr(eos, k)\n",
    "    s = 0.\n",
    "    for j = 1:k\n",
    "        Δp = eos[j+1,1] - eos[j,1]\n",
    "        Δϵ = eos[j+1,2] - eos[j,2]\n",
    "        s = Δp/Δϵ\n",
    "    end\n",
    "    return s\n",
    "end\n",
    "\n",
    "#creating an interpolated function for speed of sound modification\n",
    "function csInterp(eos, k, p1, matr_ρ, matr_cs, ds)\n",
    "    #define matrix to store (ρ,cs) for segments modification\n",
    "    segm_matrix = Matrix{Float64}(undef,0,2) \n",
    "    segm_matrix = vcat(segm_matrix, [eos[k,3] sqrt(p1)])\n",
    "    for j = 1:7\n",
    "      segm_matrix = vcat(segm_matrix, [matr_ρ[ds,j] matr_cs[ds,j]])  \n",
    "    end\n",
    "    return linear_interpolation(segm_matrix[:,1],segm_matrix[:,2])\n",
    "end\n",
    "\n",
    "#create high energy EOS\n",
    "function heEOS(he_eos::AbstractMatrix{T}, eos, k, cs_interp) where T\n",
    "    Δρ = 10.0^-5\n",
    "    M = div((10.0^-3 - eos[k,3]),10.0^-5)+div((10.0^-2 - 10.0^-3),10.0^-4)+\n",
    "        div((ρfin - 10.0^-2),10.0^-3)    \n",
    "    ρold = eos[k,3]\n",
    "    #@show(ρold)\n",
    "    ϵold = eos[k,2]\n",
    "    pold = eos[k,1]\n",
    "    \n",
    "    for j = 1:M-1\n",
    "        ρnew = ρold + Δρ\n",
    "        #@show(ρnew,Δρ)\n",
    "        ϵnew = ϵold + Δρ * (ϵold + pold)/ρold\n",
    "        pnew = pold + cs_interp(ρold)^2 * Δρ * (ϵold + pold)/ρold #cs^2=dp/dϵ\n",
    "        if ρnew > ρfin #break cycle if we reach last mass density\n",
    "            break\n",
    "        end\n",
    "        he_eos = vcat(he_eos, [pnew ϵnew ρnew])\n",
    "        ρold = ρnew #store new data in old variable for next loop\n",
    "        ϵold = ϵnew\n",
    "        pold = pnew\n",
    "        if ρnew < 10.0^-3\n",
    "            Δρ = 10.0^-5\n",
    "            #Δρ = 1.0 * 10.0^-5\n",
    "        elseif ρnew < 2.0 * 10.0^-3\n",
    "            Δρ = 10.0^-4\n",
    "        elseif ρnew < 10.0^-2\n",
    "            #Δρ = 10.0^-4\n",
    "            Δρ = 2.0 * 10.0^-4\n",
    "        elseif ρnew < 10^-1\n",
    "            #Δρ = 10.0^-3\n",
    "            Δρ = 2.0 * 10.0^-3\n",
    "        else \n",
    "            #Δρ = 10.0^-2\n",
    "            Δρ = 2.0 * 10.0^-2\n",
    "        end\n",
    "    end\n",
    "    return he_eos\n",
    "end\n",
    "\n",
    "#merge two EOSs\n",
    "function mergeEOS(eos_matrix::AbstractMatrix{T}, he_eos, eos, k) where T\n",
    "    N = k + length(he_eos[:,1])\n",
    "    for j = 1:N\n",
    "        if j <= k\n",
    "            eos_matrix = vcat(eos_matrix, [eos[j,1] eos[j,2] eos[j,3]])\n",
    "        else\n",
    "            eos_matrix = vcat(eos_matrix, [he_eos[j-k,1] he_eos[j-k,2] he_eos[j-k,3]])\n",
    "        end \n",
    "    end\n",
    "    return eos_matrix\n",
    "end\n",
    "\n",
    "#BUILDING EOS before Λ transition\n",
    "function build(eos_matrix::AbstractMatrix{T}, eos, matr_ρ, matr_cs, ds) where T\n",
    "    #find quantities at transition threshold\n",
    "    k = findpos(eos,ρt,3) #find closest position of ρt\n",
    "    #@show eos[k,1] #shows pressure at QCD threshold\n",
    "\n",
    "    #Evaluating derivative functions to find quantities at threshold\n",
    "    p1 = derThr(eos, k)\n",
    "   \n",
    "    #creating an interpolated function for speed of sound modification\n",
    "    cs_interp = csInterp(eos, k, p1, matr_ρ, matr_cs, ds)\n",
    "    \n",
    "    #define matrix to store new part of eos\n",
    "    he_eos = Matrix{Float64}(undef,0,3)\n",
    "    he_eos = heEOS(he_eos, eos, k, cs_interp)\n",
    "    \n",
    "    #merge the two eos at right threshold\n",
    "    eos_matrix = mergeEOS(eos_matrix, he_eos, eos, k)\n",
    "    return eos_matrix\n",
    "end;"
   ]
  },
  {
   "cell_type": "code",
   "execution_count": 6,
   "id": "41c7372a",
   "metadata": {
    "code_folding": []
   },
   "outputs": [],
   "source": [
    "#Introducing Λ transition\n",
    "function Λtransition(eos_complete::AbstractMatrix{T}, matr) where T\n",
    "    k = findpos(matr,pc,1) #find line in matrix corrisponding to pc\n",
    "    \n",
    "    #NB: p<pc total=fluid, p>pc total=fluid+Λ contribution\n",
    "    for j=1:length(matr[:,1])\n",
    "        if j < k\n",
    "            eos_complete = vcat(eos_complete, [matr[j,1] matr[j,2]])\n",
    "        elseif j >= k\n",
    "            pfluid = matr[j,1] + Λ\n",
    "            #if it goes outside of tables, it stops.\n",
    "            if Λ >= 0 && pfluid > matr[end,1] \n",
    "                break\n",
    "            end\n",
    "            if Λ < 0 && pfluid < matr[1,1]\n",
    "                break\n",
    "            end\n",
    "            #find closest position of pfluid in tables, and corresponding energy density\n",
    "            l = findpos(matr,pfluid,1)\n",
    "            eos_complete = vcat(eos_complete, [matr[j,1] matr[l,2]+Λ])\n",
    "        end\n",
    "    end\n",
    "    return eos_complete\n",
    "end;"
   ]
  },
  {
   "cell_type": "markdown",
   "id": "a464a31d",
   "metadata": {},
   "source": [
    "## Computation"
   ]
  },
  {
   "cell_type": "code",
   "execution_count": 7,
   "id": "c5fa8a75",
   "metadata": {},
   "outputs": [],
   "source": [
    "const ρt = 2.0 * n0 * m * ρu; #mass density when QCD transition happens\n",
    "const ρfin = 12.0 * n0 * m * ρu #highest mass density we decide to reach for QCD part\n",
    "const pc = 200.0^4 * Kp *Pu #threshold corresponds to QCD scale\n",
    "#Possible values of Λ\n",
    "Λarray = [-194^4 * Kp * Pu, -150^4 * Kp * Pu, -120^4 * Kp * Pu, -95^4 * Kp * Pu,\n",
    "    -50^4 * Kp * Pu, 0.0, 50^4 * Kp * Pu, 95^4 * Kp * Pu, 120^4 * Kp * Pu, 194^4 * Kp * Pu];"
   ]
  },
  {
   "cell_type": "code",
   "execution_count": 25,
   "id": "f82d36ed",
   "metadata": {},
   "outputs": [],
   "source": [
    "Λ = Λarray[10] #Vacuum energy shift value from array\n",
    "z = 45 #For small dataset between (1,100), for larger between (1,1000)\n",
    "#Choose low-density EOS\n",
    "eos = ap4 #sly\n",
    "\n",
    "#Introduce QCD phase into EOS - choose dataset in \"Load data and useful constants\"\n",
    "eos_matrix = Matrix{Float64}(undef,0,3)\n",
    "eos_matrix = build(eos_matrix, eos, matrix_ρ, matrix_cs, z)\n",
    "\n",
    "#The following gives matrix for complete eos, including Λ transition: \n",
    "#1) pressure, 2) energy density, both quantities are in c=G=M_sun=1 units\n",
    "#to restore units to g/cm^3 divide values by ρu, given in \"Load data and useful constants\"\n",
    "eos_complete = Matrix{Float64}(undef,0,2)\n",
    "eos_complete = Λtransition(eos_complete, eos_matrix);\n",
    "#Store complete EOS\n",
    "#writedlm( \"Data/ap4m120z45_try.dat\",  eos_complete, ' ')\n",
    "writedlm( \"Data/ap4p194z45_alt.dat\",  eos_complete, ' ')"
   ]
  },
  {
   "cell_type": "code",
   "execution_count": 26,
   "id": "4387cf60",
   "metadata": {},
   "outputs": [
    {
     "data": {
      "text/plain": [
       "153"
      ]
     },
     "execution_count": 26,
     "metadata": {},
     "output_type": "execute_result"
    }
   ],
   "source": [
    "length(eos_complete[:,1])"
   ]
  },
  {
   "cell_type": "code",
   "execution_count": null,
   "id": "e68f2e96",
   "metadata": {},
   "outputs": [],
   "source": [
    "#Store complete EOS\n",
    "writedlm( \"Data/slyp194z45_n.dat\",  eos_complete, ' ')"
   ]
  },
  {
   "cell_type": "code",
   "execution_count": null,
   "id": "0e155a66",
   "metadata": {},
   "outputs": [],
   "source": [
    "#Plot EOS in g,cm,s units\n",
    "plot(eos_complete[:,1]./Pu,eos_complete[:,2]./ρu, xscale=:log10,yscale=:log10, \n",
    "    xlims = (10.0^30,10.0^40), ylims = (10.0^10, 10.0^17),\n",
    "    color=:red, framestyle=:box, label=L\"\\textrm{modified\\ EOS}\", legend=:topleft,\n",
    "     xlabel=L\"p[\\textrm{g\\ cm^{-1} s^{-2}}]\", ylabel=L\"\\epsilon[\\textrm{g\\ cm^{-3}}]\")\n",
    "plot!(eos[:,1]./Pu,eos[:,2]./ρu, xscale=:log10,yscale=:log10, color=:black,\n",
    "    linestyle=:dash, label=L\"\\textrm{Standard \\ EOS}\")"
   ]
  },
  {
   "cell_type": "code",
   "execution_count": null,
   "id": "c2231186",
   "metadata": {},
   "outputs": [],
   "source": [
    "#Plot EOS in g,cm,s units\n",
    "plot(eos_complete[:,1]./Pu,eos_complete[:,2]./ρu, xscale=:log10,yscale=:log10,\n",
    "    xlims = (10.0^30,10.0^40), ylims = (10.0^10, 10.0^17),\n",
    "    color=:red, framestyle=:box, label=L\"\\textrm{modified\\ EOS}\", legend=:topleft,\n",
    "     xlabel=L\"p[\\textrm{g\\ cm^{-1} s^{-2}}]\", ylabel=L\"\\epsilon[\\textrm{g\\ cm^{-3}}]\")\n",
    "plot!(eos[:,1]./Pu,eos[:,2]./ρu, xscale=:log10,yscale=:log10, color=:black,\n",
    "    linestyle=:dash, label=L\"\\textrm{Standard \\ EOS}\")"
   ]
  }
 ],
 "metadata": {
  "kernelspec": {
   "display_name": "Julia 1.10.2",
   "language": "julia",
   "name": "julia-1.10"
  },
  "language_info": {
   "file_extension": ".jl",
   "mimetype": "application/julia",
   "name": "julia",
   "version": "1.10.2"
  },
  "varInspector": {
   "cols": {
    "lenName": 16,
    "lenType": 16,
    "lenVar": 40
   },
   "kernels_config": {
    "python": {
     "delete_cmd_postfix": "",
     "delete_cmd_prefix": "del ",
     "library": "var_list.py",
     "varRefreshCmd": "print(var_dic_list())"
    },
    "r": {
     "delete_cmd_postfix": ") ",
     "delete_cmd_prefix": "rm(",
     "library": "var_list.r",
     "varRefreshCmd": "cat(var_dic_list()) "
    }
   },
   "types_to_exclude": [
    "module",
    "function",
    "builtin_function_or_method",
    "instance",
    "_Feature"
   ],
   "window_display": false
  }
 },
 "nbformat": 4,
 "nbformat_minor": 5
}
