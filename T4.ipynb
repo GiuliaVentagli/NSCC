{
 "cells": [
  {
   "cell_type": "markdown",
   "id": "b3ec0a10",
   "metadata": {},
   "source": [
    "# Inspiral of NS binary with post-Newtonian description"
   ]
  },
  {
   "cell_type": "markdown",
   "id": "a3460c87",
   "metadata": {
    "heading_collapsed": true
   },
   "source": [
    "## Import"
   ]
  },
  {
   "cell_type": "code",
   "execution_count": null,
   "id": "9f01475b",
   "metadata": {
    "hidden": true
   },
   "outputs": [],
   "source": [
    "using DifferentialEquations, DelimitedFiles, Interpolations, Symbolics, Printf, Plots"
   ]
  },
  {
   "cell_type": "markdown",
   "id": "848dd3a1",
   "metadata": {},
   "source": [
    "## Taylor T4 formalism with tidal contributions\n",
    "\n",
    "Following formalism discussed in https://arxiv.org/abs/1301.3555v2 (and references therein). We are assuming stars are static."
   ]
  },
  {
   "cell_type": "markdown",
   "id": "ce7aafa4",
   "metadata": {
    "heading_collapsed": true
   },
   "source": [
    "### Functions definitions"
   ]
  },
  {
   "cell_type": "code",
   "execution_count": null,
   "id": "b63f8690",
   "metadata": {
    "code_folding": [
     2
    ],
    "hidden": true
   },
   "outputs": [],
   "source": [
    "# function to find (closest) position in array of certain value\n",
    "#!!It works for increasing values on column!!\n",
    "function findpos(matrix,value,column)\n",
    "    for b = 1:length(matrix[:,column])\n",
    "        Δx1 = abs(matrix[b,column] - value)\n",
    "        Δx2 = abs(matrix[b+1,column] - value)\n",
    "        if matrix[b+1,column] >= value\n",
    "            if Δx1 < Δx2\n",
    "                return b\n",
    "                break\n",
    "            else\n",
    "                return b+1\n",
    "                break\n",
    "            end\n",
    "        end\n",
    "    end\n",
    "end;"
   ]
  },
  {
   "cell_type": "code",
   "execution_count": null,
   "id": "53f19824",
   "metadata": {
    "code_folding": [
     1,
     20
    ],
    "hidden": true
   },
   "outputs": [],
   "source": [
    "#Point particle contribution\n",
    "function Fpp(x)\n",
    "    γ = 0.577126 #Euler's constant\n",
    "    a0 = 1.\n",
    "    a1 = 0.\n",
    "    a2 = -743.0/336.0 - 11 * ν/4.\n",
    "    a3 = 4. * π\n",
    "    a4 = 34103.0/18144.0 + 13661.0/2016.0 * ν + 59.0/18.0 * ν^2\n",
    "    a5 = - π * (4159.0/672.0 + 189.0/8.0 * ν)\n",
    "    a6 = 16447322263.0/139708800.0 - 1712.0/105.0 * γ + 16.0/3. * π^2  -\n",
    "        856.0/105.0 * log(16. * x) +  ν * (451.0/48.0 * π^2 - 56198689.0/217728.0) \n",
    "        + 541.0/896.0 * ν^2 - 5605.0/2592.0 * ν^3\n",
    "    a7 = - π * (4415.0/4032.0 - 358675.0/6048.0 * ν -\n",
    "        91495.0/1512.0 * ν^2)\n",
    "    \n",
    "    return (64. * ν)/(5. * M)  * x^5 * (a0 + a1 * x^(1/2) + a2 * x + a3 * x^(3/2) +\n",
    "        a4 * x^2 + a5 * x^(5/2) + a6 * x^3 + a7 * x^(7/2)) \n",
    "end\n",
    "\n",
    "#Tidal contribution\n",
    "function Ftid(x)\n",
    "    return (32. * Ma * λb) / (5. * M^7) * ( 12. * (1. + 11. * Ma/M) * x^10 +\n",
    "    (4421.0/28.0 - 12263.0/28.0 * Mb/M + 1893.0/2.0 * (Mb/M)^2 - 661. * (Mb/M)^3 ) *x^11 ) +\n",
    "    (32. * Mb * λa) / (5. * M^7) * ( 12. * (1. + 11. * Mb/M) * x^10 +\n",
    "    (4421.0/28.0 - 12263.0/28.0 * Ma/M + 1893.0/2.0 * (Ma/M)^2 - 661. * (Ma/M)^3 ) *x^11 )\n",
    "end;"
   ]
  },
  {
   "cell_type": "code",
   "execution_count": null,
   "id": "7d53fb2c",
   "metadata": {
    "code_folding": [
     1
    ],
    "hidden": true
   },
   "outputs": [],
   "source": [
    "#Define the system of differential eqs to solve\n",
    "function system!(du, u, p, t) # u = x, ϕ\n",
    "    du[1] = Fpp(u[1]) + Ftid(u[1])\n",
    "    du[2] = u[1]^(3/2) / M\n",
    "end;"
   ]
  },
  {
   "cell_type": "code",
   "execution_count": null,
   "id": "f4c1df06",
   "metadata": {
    "code_folding": [
     0
    ],
    "hidden": true
   },
   "outputs": [],
   "source": [
    "function integrator()\n",
    "    #for the initial ω I am using third Kepler's law\n",
    "    ω0 = sqrt(G * M/(d^3))\n",
    "    x0 = (G * M * ω0)^(2/3)\n",
    "    ϕ0 = 0.\n",
    "    tspan = (0, tf)\n",
    "    u0 = [x0, ϕ0]\n",
    "    \n",
    "    condition(u, t, integrator) = G^(1/3)* M / u[1] < dend\n",
    "    affect!(integrator) = terminate!(integrator)\n",
    "    cb = DiscreteCallback(condition, affect!)\n",
    "\n",
    "    prob = ODEProblem(system!, u0, tspan)\n",
    "    \n",
    "    sol = solve(prob, RK4(), callback = cb, dt = δt, adaptive = false)\n",
    "    return sol\n",
    "end;"
   ]
  },
  {
   "cell_type": "code",
   "execution_count": null,
   "id": "906e88f2",
   "metadata": {
    "code_folding": [
     1
    ],
    "hidden": true
   },
   "outputs": [],
   "source": [
    "#Function to store data after solving differential equations\n",
    "function dumpData(sol, name_file)\n",
    "    #Store important data in first commented line\n",
    "    dumping = open(name_file, \"a\");\n",
    "    writedlm( dumping, [\"#Ma = $Ma, Mb = $Mb, λa = $λa, λb = $λb, d_i = $d, d_f = $dend, d_obs = $dobs\"])\n",
    "    writedlm( dumping, [\"#t/M x ϕ ω*M ϕ*M h22 Ih22\"])\n",
    "    close(dumping)\n",
    "    for i=1:length(sol.t)-1\n",
    "        tresc = sol.t[i]/M\n",
    "        omegaresc = sol[1,i]^(3/2)\n",
    "        phaseM = sol[2,i] * M\n",
    "        \n",
    "        h22 = coeff * sol[1,i] * cos(2 * sol[2,i])\n",
    "        ih22 = coeff * sol[1,i] * sin(2 * sol[2,i])\n",
    "        \n",
    "        dumping = open(name_file, \"a\");\n",
    "        writedlm( dumping,  [tresc sol[1,i] sol[2,i] omegaresc phaseM h22 ih22], ' ')\n",
    "        close(dumping)\n",
    "    end\n",
    "end;"
   ]
  },
  {
   "cell_type": "code",
   "execution_count": null,
   "id": "ee1cab70",
   "metadata": {
    "code_folding": [
     1
    ],
    "hidden": true
   },
   "outputs": [],
   "source": [
    "#Function to compute the Newmann-Penrose scalar Ψ4\n",
    "function strain(data)\n",
    "    #Interpolate h_22 and Ih_22\n",
    "    t_array = Interpolations.deduplicate_knots!(data[:,1];move_knots = true)\n",
    "    h_22_interp = linear_interpolation(t_array,data[:,6])\n",
    "    ih_22_interp = linear_interpolation(t_array,data[:,7])\n",
    "    \n",
    "    #Possibility to improve this part of code, not straightforward\n",
    "    #Evaluate first order derivatives\n",
    "    h22_prime(x) = only(Interpolations.gradient(h_22_interp, x))\n",
    "    ih22_prime(x) = only(Interpolations.gradient(ih_22_interp, x));\n",
    "    h22primeMat = Matrix{Float64}(undef,0,2)\n",
    "    ih22primeMat = Matrix{Float64}(undef,0,2)\n",
    "    for i = 1:length(data[:,1])\n",
    "        val = h22_prime(data[i,1])\n",
    "        ival = ih22_prime(data[i,1])\n",
    "        h22primeMat = vcat(h22primeMat, [data[i,1] val])\n",
    "        ih22primeMat = vcat(ih22primeMat, [data[i,1] ival])\n",
    "    end\n",
    "    \n",
    "    h22prime_array = Interpolations.deduplicate_knots!(h22primeMat[:,1];move_knots = true)\n",
    "    ih22prime_array = Interpolations.deduplicate_knots!(ih22primeMat[:,1];move_knots = true)\n",
    "    h_22_prime_interp = linear_interpolation(h22prime_array,h22primeMat[:,2])\n",
    "    ih_22_prime_interp = linear_interpolation(ih22prime_array,ih22primeMat[:,2])\n",
    "    \n",
    "    Reψ4(x) = only(Interpolations.gradient(h_22_prime_interp, x))\n",
    "    Imψ4(x) = only(Interpolations.gradient(ih_22_prime_interp, x))\n",
    "    \n",
    "    return Reψ4, Imψ4\n",
    "end;"
   ]
  },
  {
   "cell_type": "markdown",
   "id": "c69c5fae",
   "metadata": {
    "heading_collapsed": true
   },
   "source": [
    "### Integration"
   ]
  },
  {
   "cell_type": "code",
   "execution_count": null,
   "id": "2c72561b",
   "metadata": {
    "hidden": true
   },
   "outputs": [],
   "source": [
    "const KK = (2.997 * 10.0^5)^2/(6.67 * 10.0^-20 * 1.988 * 10.0^30)\n",
    "const G = 1.;"
   ]
  },
  {
   "cell_type": "code",
   "execution_count": null,
   "id": "e9c75dd8",
   "metadata": {
    "hidden": true
   },
   "outputs": [],
   "source": [
    "#Choose modified EOS (the parameters are ap4/sly, Λ and z)\n",
    "#Note: TOVdata is obtained with NSIntegrator notebook\n",
    "Λ = -150.0\n",
    "z = 45\n",
    "eos = \"ap4\"\n",
    "#Data stored are P0/ρu, M, Rs/Lu*10.0^-5, C, k2, λ, I/M^3, λ/M^5\n",
    "TOVdata = readdlm(\"TOV_$eos\"*\"_$Λ\"*\"_$z.csv\");"
   ]
  },
  {
   "cell_type": "code",
   "execution_count": null,
   "id": "a13aa8f8",
   "metadata": {
    "hidden": true
   },
   "outputs": [],
   "source": [
    "#Interpolate λ/M^5-M curve\n",
    "#Important! λ used in calculation needs to be rescaled appropriately with KK^5\n",
    "_, k = findmax(TOVdata[:,2])\n",
    "M_array = Interpolations.deduplicate_knots!(TOVdata[1:k,2];move_knots = true)\n",
    "λ_interp = linear_interpolation(M_array,TOVdata[1:k,8]);"
   ]
  },
  {
   "cell_type": "code",
   "execution_count": null,
   "id": "38416b70",
   "metadata": {
    "hidden": true
   },
   "outputs": [],
   "source": [
    "#Choose Ma and Mb\n",
    "Ma = 2.21\n",
    "Mb = 2.08\n",
    "λa = λ_interp(Ma) * KK^5\n",
    "λb = λ_interp(Mb) * KK^5\n",
    "q = round(Ma/Mb, digits = 3)\n",
    "#Choose initial and final separations\n",
    "d = 50. #70.\n",
    "dend = 17. #30.\n",
    "tf = 1000000.\n",
    "#Choose δt \n",
    "δt = .1 #1.\n",
    "M = Ma + Mb\n",
    "ν = Ma * Mb / (M^2)\n",
    "#Choose observer's distance\n",
    "dobs = 200.\n",
    "coeff =  2 * G * ν * M / dobs\n",
    "\n",
    "#Solve ODEs system for x and ϕ\n",
    "sol = integrator()\n",
    "\n",
    "dumpData(sol, \"data_$eos\"*\"_d$d\"*\"_q$q\"*\"_ma$Ma\"*\"_$Λ\"*\"_$z.csv\")#[t/M x ϕ ω*M ϕ*M h22 Ih22]"
   ]
  },
  {
   "cell_type": "markdown",
   "id": "76c0f1a5",
   "metadata": {
    "heading_collapsed": true
   },
   "source": [
    "### Newmann-Penrose scalar"
   ]
  },
  {
   "cell_type": "code",
   "execution_count": null,
   "id": "50835c50",
   "metadata": {
    "hidden": true
   },
   "outputs": [],
   "source": [
    "Λ = -150.0\n",
    "z = 45\n",
    "eos = \"ap4\"\n",
    "Ma = 2.21\n",
    "Mb = 2.08\n",
    "q = round(Ma/Mb, digits = 3)\n",
    "d = 50.\n",
    "\n",
    "#Not importing first two lines with initial values and name columns\n",
    "data = readdlm(\"data_$eos\"*\"_d$d\"*\"_q$q\"*\"_ma$Ma\"*\"_$Λ\"*\"_$z.csv\", comments=true, \n",
    "    comment_char='#');"
   ]
  },
  {
   "cell_type": "code",
   "execution_count": null,
   "id": "556bb2f6",
   "metadata": {
    "hidden": true
   },
   "outputs": [],
   "source": [
    "Reψ4 = zeros(0)\n",
    "Imψ4 = zeros(0)\n",
    "\n",
    "Reψ4, Imψ4 = strain(data);"
   ]
  },
  {
   "cell_type": "code",
   "execution_count": null,
   "id": "920db825",
   "metadata": {
    "hidden": true
   },
   "outputs": [],
   "source": [
    "#Example plot\n",
    "plot(Reψ4, data[:,1],xlabel=\"t/M\",ylabel=\"Ψ4\",label=\"Re\")\n",
    "plot!(Imψ4, data[:,1],xlabel=\"t/M\",ylabel=\"Ψ4\",label=\"Im\")"
   ]
  }
 ],
 "metadata": {
  "kernelspec": {
   "display_name": "Julia 1.9.2",
   "language": "julia",
   "name": "julia-1.9"
  },
  "language_info": {
   "file_extension": ".jl",
   "mimetype": "application/julia",
   "name": "julia",
   "version": "1.9.2"
  },
  "varInspector": {
   "cols": {
    "lenName": 16,
    "lenType": 16,
    "lenVar": 40
   },
   "kernels_config": {
    "python": {
     "delete_cmd_postfix": "",
     "delete_cmd_prefix": "del ",
     "library": "var_list.py",
     "varRefreshCmd": "print(var_dic_list())"
    },
    "r": {
     "delete_cmd_postfix": ") ",
     "delete_cmd_prefix": "rm(",
     "library": "var_list.r",
     "varRefreshCmd": "cat(var_dic_list()) "
    }
   },
   "types_to_exclude": [
    "module",
    "function",
    "builtin_function_or_method",
    "instance",
    "_Feature"
   ],
   "window_display": false
  }
 },
 "nbformat": 4,
 "nbformat_minor": 5
}
