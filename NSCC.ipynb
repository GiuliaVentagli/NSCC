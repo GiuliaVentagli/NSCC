{
 "cells": [
  {
   "cell_type": "markdown",
   "id": "8033e7f4",
   "metadata": {},
   "source": [
    "# Neutron Stars Integrator\n",
    "This notebook solves the TOV equations for static neutron stars described by an EOS that includes a QCD and a vacuum energy phase transition. \n",
    "\n",
    "The units in which the notebook works are in G=c=M_sun=1, but rescaling factors are provided.\n",
    "\n",
    "**Important note**: there is no need to create the 'modified' EOSs beforehand (e.g. through the eos_generator notebook provided in the repository). The 'modified' EOS are created within the code, starting from a standard EOS (sly and ap4 are provided), a dataset for segments speed of sound parametrization modelling the QCD phase (a smaller and larger dataset are provided) and a value of vacuum energy shift.\n",
    "\n",
    "The general description for the EOS model is provided in **arXiv:2404.19012**."
   ]
  },
  {
   "cell_type": "markdown",
   "id": "b56a4be3",
   "metadata": {},
   "source": [
    "## Import"
   ]
  },
  {
   "cell_type": "code",
   "execution_count": null,
   "id": "cf5a1e1e",
   "metadata": {},
   "outputs": [],
   "source": [
    "include(\"Model_NSCC.jl\")\n",
    "using DelimitedFiles, Plots"
   ]
  },
  {
   "cell_type": "markdown",
   "id": "1fb1b116",
   "metadata": {},
   "source": [
    "## Load data and units conventions"
   ]
  },
  {
   "cell_type": "markdown",
   "id": "6ba24ea7",
   "metadata": {},
   "source": [
    "Note: the usual dataset for the AP4 and the SLy gave all quantities in g/cm^3\n",
    "The dataset in Rescaledsly.dat and Rescaledap4.dat have been rescaled to G=c=M_Sun=1\n",
    "The data for the (ρ,c_s) segments are also in G=c=M_Sun=1\n",
    "\n",
    "Smaller dataset corresponds to matrixrhoS.dat and matrixcsS.dat\n",
    "\n",
    "Larger dataset corresponds to matrixrhoL.dat and matrixcsL.dat"
   ]
  },
  {
   "cell_type": "code",
   "execution_count": null,
   "id": "2a95df05",
   "metadata": {},
   "outputs": [],
   "source": [
    "#LOADING DATA\n",
    "sly = readdlm(\"Rescaledsly.dat\", Float64) #p,ϵ,ρ\n",
    "ap4 = readdlm(\"Rescaledap4.dat\", Float64); #p,ϵ,ρ\n",
    "#matrix_ρ = readdlm(\"matrixrhoS.dat\", Float64) #loading ρ coordinates for segments, 100 EOS\n",
    "#matrix_cs = readdlm(\"matrixcsS.dat\", Float64); #loading cs coordinates for segments, 100 EOS\n",
    "matrix_ρ = readdlm(\"matrixrhoL.dat\", Float64) #loading ρ coordinates for segments, 1000 EOS\n",
    "matrix_cs = readdlm(\"matrixcsL.dat\", Float64);#loading cs coordinates for segments, 1000 EOS"
   ]
  },
  {
   "cell_type": "code",
   "execution_count": null,
   "id": "311a3464",
   "metadata": {},
   "outputs": [],
   "source": [
    "#CONSTANTS FOR UNITS\n",
    "const cspeed = 2.997 * 10.0^10 #in cm s^-1\n",
    "const hbar = 6.582 * 10.0^-22 #in Mev s\n",
    "const MeV = 1.602 * 10.0^-6 #in g cm^2 s^-1\n",
    "const Kp = MeV/(hbar^3 * cspeed^3) #in g and cm\n",
    "const Kρ = MeV/(hbar^3 * cspeed^5) #in g and cm\n",
    "const fm = (10.0^-13)^-3 #fm^-3 in cm^-3\n",
    "const n0 = 0.16 * fm #nuclear saturation density in cm^-3\n",
    "const m = 1.675 * 10.0^-24 #neutron mass in g\n",
    "const Msun = 1.988 * 10.0^33 #mass of the Sun in g\n",
    "const Gconst = 6.67 * 10.0^-11 * 10.0^6/10.0^3 #in cm^3/g/s^2\n",
    "const Lu = Msun^-1 * cspeed^2 * Gconst^-1 #1cm in G=c=Msun=1\n",
    "const Pu = Msun^-1 / Lu^3 / cspeed^2  #transforming a pressure in g/cm/s^2 in G=c=Msun=1 units\n",
    "const ρu = Msun^-1 / Lu^3; #transforming a mass density in g/cm^3 in G=c=Msun=1 units\n",
    "#rescaling factor for λ to check with GW results\n",
    "const KK = (2.997 * 10.0^5)^2/(6.67 * 10.0^-20 * 1.988 * 10.0^30);"
   ]
  },
  {
   "cell_type": "markdown",
   "id": "12925490",
   "metadata": {
    "heading_collapsed": true
   },
   "source": [
    "## Integration on entire dataset\n",
    "Here we solve the TOV equations for the full M-R curve for all EOSs. We save only configurations that survive the maximum mass test. \n",
    "\n",
    "We also perform the study on R and λ for a fixed mass, which can be chosen by changing Mtest.\n",
    "\n",
    "For this part of the integration, there is no need for the moment of inertia analysis."
   ]
  },
  {
   "cell_type": "code",
   "execution_count": null,
   "id": "0670d0ef",
   "metadata": {
    "hidden": true
   },
   "outputs": [],
   "source": [
    "const ρt = 2.0 * n0 * m * ρu #mass density when transition happens\n",
    "const ρfin = 12.0 * n0 * m * ρu\n",
    "const pc = 200.0^4 * Kp * Pu #threshold corresponds to QCD scale\n",
    "#define initial values for solving integration as global\n",
    "const r0 = 10^-5\n",
    "const a0 = 1.0\n",
    "const f0 = 1.0\n",
    "const h0 = 1.0\n",
    "const H0 = a0 * r0^2\n",
    "const β0 = 2. * a0 * r0\n",
    "const rspan = (r0, 200)\n",
    "#choose mass for tidal def analysis: e.g. 1.4, 2.18\n",
    "const Mtest = 1.4\n",
    "#Array of possible values of Λ\n",
    "Λarray = [-194.0^4 * Kp * Pu, -150.0^4 * Kp * Pu, -120.0^4 * Kp * Pu, -95.0^4 * Kp * Pu,\n",
    "    -50.0^4 * Kp * Pu, 0., 50.0^4 * Kp * Pu, 95.0^4 * Kp * Pu, 120.0^4 * Kp * Pu,\n",
    "    194.0^4 * Kp * Pu];"
   ]
  },
  {
   "cell_type": "code",
   "execution_count": null,
   "id": "b654b2ab",
   "metadata": {
    "hidden": true,
    "scrolled": true
   },
   "outputs": [],
   "source": [
    "Λ = 0.\n",
    "Inertia = 0\n",
    "ϵ_fluid = zeros(0)\n",
    "ϵ_prime(x::Any) = zeros(0)\n",
    "ρ_fluid = zeros(0)\n",
    "ρ_inside = zeros(0)\n",
    "p_fluid = zeros(0)\n",
    "#HERE CHOOSE EOS: SLY OR AP4!!!\n",
    "eos = sly #ap4 #sly\n",
    "\n",
    "tag1 = length(matrix_ρ[:,1]) #identify dataset to name file\n",
    "tag2 = \"sly\" #\"ap4\" #\"sly\" #Change accordingly!\n",
    "\n",
    "for q = 1:length(Λarray)\n",
    "    Λ = Λarray[q]\n",
    "    @show Λ\n",
    "    for j = 1:length(matrix_ρ[:,1])\n",
    "        z = j\n",
    "        @show j\n",
    "    \n",
    "        eos_matrix = Matrix{Float64}(undef,0,3) #define matrix to store complete EOS\n",
    "        eos_matrix = build(eos_matrix, eos, matrix_ρ, matrix_cs, z)\n",
    "        \n",
    "        #ϵ[p] before transition\n",
    "        ϵ_fluid = linear_interpolation(eos_matrix[:,1],eos_matrix[:,2])\n",
    "        #define interpolated dϵ[p]/dp\n",
    "        ϵ_prime(x) = only(Interpolations.gradient(ϵ_fluid, x) );\n",
    "        #pFluid before Λ transition\n",
    "        p_fluid = linear_interpolation(eos_matrix[:,2],eos_matrix[:,1])\n",
    "        \n",
    "        #INTEGRATION\n",
    "        P0 = 2.5 * 10^-5  #this will vary at each step of loop\n",
    "        #Find what Pf is\n",
    "        if Λ > 0 && eos_matrix[end,1] > pc\n",
    "            Pf = eos_matrix[end,1] - Λ\n",
    "        else\n",
    "            Pf = eos_matrix[end,1]\n",
    "        end\n",
    "    \n",
    "        #create empty matrix to store data in loop\n",
    "        DATA_matrix = Matrix{Float64}(undef,0,8) \n",
    "\n",
    "        DATA_matrix = cycleTOV(DATA_matrix, P0, Pf)\n",
    "        \n",
    "        Mmax, iMax = findmax(DATA_matrix[:,2])\n",
    "        \n",
    "        if Λ == 0.0\n",
    "            temp = 0.0\n",
    "        else\n",
    "            temp = abs(Λ/(Kp * Pu))^(1/4)/sign(Λ)\n",
    "        end\n",
    "        \n",
    "        #The next 3 lines are for initial study of complete dataset - comment if not needed\n",
    "        #dumping = open(\"Data/grid_$tag2\"*\"_$tag1.csv\", \"a\");\n",
    "        #writedlm( dumping,  [q z Mmax], ' ')\n",
    "        #close(dumping)\n",
    "        \n",
    "        #Store data for 'admissible' EOS\n",
    "        #if 2.18 < Mmax < 2.52\n",
    "        if 2.18 <= Mmax <= 2.52\n",
    "            #Find R and λ at Mtest\n",
    "            λt, Rt = λRCalc(DATA_matrix, iMax)\n",
    "            \n",
    "            #dump data on file\n",
    "            #Note: λt is rescaled in order to be compared to GWs results\n",
    "            dumping = open(\"Data/data_$tag2\"*\"_$tag1\"*\"_M$Mtest.csv\", \"a\");\n",
    "            writedlm( dumping,  [temp z Mmax λt Rt], ' ')\n",
    "            close(dumping)\n",
    "        end\n",
    "    end\n",
    "end;"
   ]
  },
  {
   "cell_type": "markdown",
   "id": "3ae692a7",
   "metadata": {
    "heading_collapsed": true
   },
   "source": [
    "## Integration for a single EOS\n",
    "Here we solve the TOV equations for the full M-R curve (and other relations) for a specific EOS. It is possible to create a double loop on Λ and z (bookkeping parameter to identify a specific QCD modification) to save all 'admissible' configurations."
   ]
  },
  {
   "cell_type": "code",
   "execution_count": null,
   "id": "1306a224",
   "metadata": {
    "hidden": true
   },
   "outputs": [],
   "source": [
    "const ρt = 2.0 * n0 * m * ρu #mass density when transition happens\n",
    "const ρfin = 12.0 * n0 * m * ρu\n",
    "const pc = 200.0^4 * Kp * Pu #threshold corresponds to QCD scale\n",
    "#define initial values for solving integration as global\n",
    "const r0 = 10^-5\n",
    "const a0 = 1.0\n",
    "const f0 = 1.0\n",
    "const h0 = 1.0\n",
    "const H0 = a0 * r0^2\n",
    "const β0 = 2. * a0 * r0\n",
    "const rspan = (r0, 200)\n",
    "#Array of possible values of Λ\n",
    "Λarray = [-194.0^4 * Kp * Pu, -150.0^4 * Kp * Pu, -120.0^4 * Kp * Pu, -95.0^4 * Kp * Pu,\n",
    "    -50.0^4 * Kp * Pu, 0., 50.0^4 * Kp * Pu, 95.0^4 * Kp * Pu, 120.0^4 * Kp * Pu,\n",
    "    194.0^4 * Kp * Pu];"
   ]
  },
  {
   "cell_type": "code",
   "execution_count": null,
   "id": "4e90fd5e",
   "metadata": {
    "hidden": true
   },
   "outputs": [],
   "source": [
    "#Choose if including also moment of inertia analysis: 0=no, 1=yes\n",
    "Inertia = 0 #0 #1\n",
    "\n",
    "ϵ_fluid = zeros(0)\n",
    "ϵ_prime(x::Any) = zeros(0)\n",
    "ρ_fluid = zeros(0)\n",
    "ρ_inside = zeros(0)\n",
    "p_fluid = zeros(0)\n",
    "#HERE CHOOSE EOS: SLY OR AP4, Λ and z\n",
    "eos = sly #sly #ap4\n",
    "Λ = Λarray[6]\n",
    "z = 9\n",
    "\n",
    "tag1 = length(matrix_ρ[:,1]) #identify dataset to name file\n",
    "tag2 = \"sly\" #\"ap4\" #\"sly\" #Change accordingly!\n",
    "DATA_matrix = Matrix{Float64}(undef,0,8)\n",
    "\n",
    "#Cycle on Λ, uncomment if needed\n",
    "#for q = 1:length(Λarray)\n",
    "#    Λ = Λarray[q]\n",
    "#    @show Λ\n",
    "\n",
    "#Cycle on z, uncomment if needed\n",
    "#for j = 1:length(matrix_ρ[:,1])\n",
    "#    z = j\n",
    " #   @show j\n",
    "\n",
    "#Define matrix to store data\n",
    "DATA_matrix = Matrix{Float64}(undef,0,8)\n",
    "\n",
    "eos_matrix = Matrix{Float64}(undef,0,3) #define matrix to store complete eos\n",
    "eos_matrix = build(eos_matrix, eos, matrix_ρ, matrix_cs, z)\n",
    "        \n",
    "#ϵ[p] before transition\n",
    "ϵ_fluid = linear_interpolation(eos_matrix[:,1],eos_matrix[:,2])\n",
    "#define interpolated dϵ[p]/dp\n",
    "ϵ_prime(x) = only(Interpolations.gradient(ϵ_fluid, x) );\n",
    "#pFluid before Λ transition\n",
    "p_fluid = linear_interpolation(eos_matrix[:,2],eos_matrix[:,1]) #p[ϵ]\n",
    "#ρ[ϵ] before transition\n",
    "ρ_fluid = linear_interpolation(eos_matrix[:,2],eos_matrix[:,3])\n",
    "\n",
    "#be careful not to exit table\n",
    "if eos_matrix[end,1] >= pc + Λ && eos_matrix[end,1] >= pc\n",
    "    ρ_matrix = Matrix{Float64}(undef,0,2) #create matrix to store new values of ρ\n",
    "    ρ_matrix = completeEos(ρ_matrix, eos_matrix) #ϵtot, ρtot after Λ jump\n",
    "    #Called in ρ_interp\n",
    "    if length(ρ_matrix[:,1]) > 1\n",
    "        ρ_inside = linear_interpolation(ρ_matrix[:,1],ρ_matrix[:,2]);\n",
    "    else\n",
    "        #remote case where only last element of matrix should be changed\n",
    "        #I ignore this case\n",
    "        ρ_inside = ρ_fluid \n",
    "    end\n",
    "end\n",
    "        \n",
    "#INTEGRATION\n",
    "P0 = 2.5 * 10^-5  #this will vary at each step of loop\n",
    "#Find what Pf is, paying attention not to exit table\n",
    "#Note that there is a bit of extra carefulness for the case where eos_matrix[end,1] < pc+Λ\n",
    "#In principle I could go up to threshold for Λ transition, as long as it is not triggered\n",
    "#I prefer to pick Pf = eos_matrix[end,1] - Λ < pc, and not to risk hitting that threshold\n",
    "if Λ > 0 && eos_matrix[end,1] > pc \n",
    "    Pf = eos_matrix[end,1] - Λ\n",
    "else\n",
    "    Pf = eos_matrix[end,1]\n",
    "end\n",
    "\n",
    "#Data stored in DATA_matrix: P0/ρu, M, Rs/Lu*10.0^-5, C, k2, λ, I/M^3, λ/M^5\n",
    "#Note λ is not rescaled with KK^5/M^5\n",
    "@time DATA_matrix = cycleTOV(DATA_matrix, P0, Pf)\n",
    "\n",
    "Mmax, iMax = findmax(DATA_matrix[:,2])\n",
    "        \n",
    "if Λ == 0.0\n",
    "    temp = 0.0\n",
    "else\n",
    "    temp = abs(Λ/(Kp * Pu))^(1/4)/sign(Λ)\n",
    "end\n",
    "\n",
    "#Store data for 'admissible' EOS\n",
    "#if 2.18 < Mmax < 2.52\n",
    "if 2.18 <= Mmax <= 2.52\n",
    "    #dump data on file - comment if not required\n",
    "    dumping = open(\"Data/TOV_$tag2\"*\"_$temp\"*\"_$z.csv\", \"a\");\n",
    "    writedlm( dumping,  DATA_matrix, ' ')\n",
    "    close(dumping)\n",
    "end;\n",
    "#end; #Cycle on z, uncomment if needed\n",
    "#end; #Cycle on Λ, uncomment if needed"
   ]
  },
  {
   "cell_type": "code",
   "execution_count": null,
   "id": "8a3980f8",
   "metadata": {
    "hidden": true
   },
   "outputs": [],
   "source": [
    "#Example plot: M-R curve\n",
    "plot(DATA_matrix[:,3],DATA_matrix[:,2], xlabel=\"R\", ylabel=\"M\")"
   ]
  },
  {
   "cell_type": "markdown",
   "id": "1b49ed76",
   "metadata": {},
   "source": [
    "## Combined tidal deformability\n",
    "Here we compute the combined tidal deformability using the λ-M curves obtained in the previous section for a specific modified EOS."
   ]
  },
  {
   "cell_type": "code",
   "execution_count": null,
   "id": "3434faa6",
   "metadata": {},
   "outputs": [],
   "source": [
    "#Choose the specific modified EOS defined by ap4/sly, Λ and z.\n",
    "Λ = -150.0\n",
    "z = 45\n",
    "eos = \"ap4\" #\"ap4\" #\"sly\"\n",
    "TOVdata = readdlm(\"TOV_$eos\"*\"_$Λ\"*\"_$z.csv\")\n",
    "\n",
    "#Choose chirp mass e.g. 1.65, 1.188\n",
    "Chirp = 1.65\n",
    "_, k = findmax(TOVdata[:,2])\n",
    "\n",
    "#We scan only the stable branch of the λ/M^5-M curve\n",
    "for i = 1:k\n",
    "    #Note that the KK^5 factor rescales the tidal deformability\n",
    "    m1, λ1 = TOVdata[k+1-i,2], TOVdata[k+1-i,8] * KK^5\n",
    "      \n",
    "    f(x) = (x * m1)^(3/5)/(x + m1)^(1/5) - Chirp\n",
    "    m2 = find_zero(f, (TOVdata[1,2],TOVdata[end,2]) )\n",
    "    \n",
    "    #Find λ for the companion\n",
    "    m_array = Interpolations.deduplicate_knots!(TOVdata[:,2];move_knots = true)\n",
    "    λ_of_m = linear_interpolation(m_array,TOVdata[:,8])\n",
    "    λ2 = λ_of_m(m2) * KK^5 #Note that the KK^5 factor rescales the tidal deformability\n",
    "       \n",
    "    if m2 >= m1\n",
    "        break\n",
    "    end\n",
    "    \n",
    "    #compute combined tidal deformability\n",
    "    λc = (16.0/13.) * ((m1 + 12. * m2) * m1^4 * λ1 +\n",
    "        (m2 + 12. * m1) * m2^4 * λ2) / (m1 + m2)^5\n",
    "    \n",
    "    #save data for the specific EOS\n",
    "    dumping = open(\"combTid_$eos\"*\"_$Λ\"*\"_$z\"*\"_$Chirp.csv\", \"a\")\n",
    "    writedlm( dumping,  [m1 m2 λc Chirp], ' ')\n",
    "    close(dumping)\n",
    "end"
   ]
  },
  {
   "cell_type": "code",
   "execution_count": null,
   "id": "7e2e3b23",
   "metadata": {},
   "outputs": [],
   "source": [
    "#Example of plot\n",
    "Λ = -150.0\n",
    "z = 45\n",
    "eos = \"ap4\" #\"sly\"\n",
    "Chirp = 1.65\n",
    "data = readdlm(\"combTid_$eos\"*\"_$Λ\"*\"_$z\"*\"_$Chirp.csv\")\n",
    "plot(data[:,1], data[:,3], xlabel=\"M_1\", ylabel=\"λc\")"
   ]
  },
  {
   "cell_type": "code",
   "execution_count": null,
   "id": "c369b2e7",
   "metadata": {},
   "outputs": [],
   "source": []
  }
 ],
 "metadata": {
  "kernelspec": {
   "display_name": "Julia 1.8.5",
   "language": "julia",
   "name": "julia-1.8"
  },
  "language_info": {
   "file_extension": ".jl",
   "mimetype": "application/julia",
   "name": "julia",
   "version": "1.8.5"
  },
  "varInspector": {
   "cols": {
    "lenName": 16,
    "lenType": 16,
    "lenVar": 40
   },
   "kernels_config": {
    "python": {
     "delete_cmd_postfix": "",
     "delete_cmd_prefix": "del ",
     "library": "var_list.py",
     "varRefreshCmd": "print(var_dic_list())"
    },
    "r": {
     "delete_cmd_postfix": ") ",
     "delete_cmd_prefix": "rm(",
     "library": "var_list.r",
     "varRefreshCmd": "cat(var_dic_list()) "
    }
   },
   "types_to_exclude": [
    "module",
    "function",
    "builtin_function_or_method",
    "instance",
    "_Feature"
   ],
   "window_display": false
  }
 },
 "nbformat": 4,
 "nbformat_minor": 5
}
